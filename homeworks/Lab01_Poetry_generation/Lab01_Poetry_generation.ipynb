{
 "cells": [
  {
   "cell_type": "markdown",
   "metadata": {
    "id": "OloOwT2KVozg"
   },
   "source": [
    "## Lab 01. Poetry generation\n",
    "\n",
    "Let's try to generate some poetry using RNNs. \n",
    "\n",
    "You have several choices here: \n",
    "\n",
    "* The Shakespeare sonnets, file `sonnets.txt` available in the notebook directory.\n",
    "\n",
    "* Роман в стихах \"Евгений Онегин\" Александра Сергеевича Пушкина. В предобработанном виде доступен по [ссылке](https://github.com/attatrol/data_sources/blob/master/onegin.txt).\n",
    "\n",
    "* Some other text source, if it will be approved by the course staff.\n",
    "\n",
    "Text generation can be designed in several steps:\n",
    "    \n",
    "1. Data loading.\n",
    "2. Dictionary generation.\n",
    "3. Data preprocessing.\n",
    "4. Model (neural network) training.\n",
    "5. Text generation (model evaluation).\n"
   ]
  },
  {
   "cell_type": "code",
   "execution_count": 1,
   "metadata": {
    "id": "gIkqeRrcVozm"
   },
   "outputs": [],
   "source": [
    "import string\n",
    "import os"
   ]
  },
  {
   "cell_type": "markdown",
   "metadata": {
    "id": "yrPV2CJSVozn"
   },
   "source": [
    "### Data loading: Shakespeare"
   ]
  },
  {
   "cell_type": "markdown",
   "metadata": {
    "id": "J5JTXAwHVozo"
   },
   "source": [
    "Shakespeare sonnets are awailable at this [link](http://www.gutenberg.org/ebooks/1041?msg=welcome_stranger). In addition, they are stored in the same directory as this notebook (`sonnetes.txt`). Simple preprocessing is already done for you in the next cell: all technical info is dropped."
   ]
  },
  {
   "cell_type": "code",
   "execution_count": 2,
   "metadata": {
    "id": "zoMw4WSoVozo"
   },
   "outputs": [],
   "source": [
    "# if not os.path.exists('sonnets.txt'):\n",
    "#     !wget https://raw.githubusercontent.com/girafe-ai/ml-mipt/master/homeworks_basic/Lab2_DL/sonnets.txt\n",
    "\n",
    "# with open('sonnets.txt', 'r') as iofile:\n",
    "#     text = iofile.readlines()\n",
    "    \n",
    "# TEXT_START = 45\n",
    "# TEXT_END = -368\n",
    "# text = text[TEXT_START : TEXT_END]\n",
    "# assert len(text) == 2616"
   ]
  },
  {
   "cell_type": "markdown",
   "metadata": {
    "id": "e8K8-3n0Vozo"
   },
   "source": [
    "In opposite to the in-class practice, this time we want to predict complex text. Let's reduce the complexity of the task and lowercase all the symbols.\n",
    "\n",
    "Now variable `text` is a list of strings. Join all the strings into one and lowercase it."
   ]
  },
  {
   "cell_type": "code",
   "execution_count": 3,
   "metadata": {
    "id": "skGFX3WGVozp"
   },
   "outputs": [],
   "source": [
    "# Join all the strings into one and lowercase it\n",
    "# Put result into variable text.\n",
    "\n",
    "# Your great code here\n",
    "\n",
    "# assert len(text) == 100225, 'Are you sure you have concatenated all the strings?'\n",
    "# assert not any([x in set(text) for x in string.ascii_uppercase]), 'Uppercase letters are present'\n",
    "# print('OK!')"
   ]
  },
  {
   "cell_type": "markdown",
   "metadata": {
    "id": "c5eO-5ZLVozp"
   },
   "source": [
    "### Data loading: \"Евгений Онегин\"\n"
   ]
  },
  {
   "cell_type": "code",
   "execution_count": 4,
   "metadata": {
    "colab": {
     "base_uri": "https://localhost:8080/"
    },
    "id": "V3nZZ7VkVozp",
    "outputId": "b8583ce5-46ce-4a66-cf0a-9a6c1402af58"
   },
   "outputs": [
    {
     "name": "stdout",
     "output_type": "stream",
     "text": [
      "--2021-04-21 19:08:30--  https://raw.githubusercontent.com/attatrol/data_sources/master/onegin.txt\n",
      "Resolving raw.githubusercontent.com (raw.githubusercontent.com)... 185.199.109.133, 185.199.108.133, 185.199.111.133, ...\n",
      "Connecting to raw.githubusercontent.com (raw.githubusercontent.com)|185.199.109.133|:443... connected.\n",
      "HTTP request sent, awaiting response... 200 OK\n",
      "Length: 262521 (256K) [text/plain]\n",
      "Saving to: ‘onegin.txt.1’\n",
      "\n",
      "onegin.txt.1        100%[===================>] 256,37K  1,65MB/s    in 0,2s    \n",
      "\n",
      "2021-04-21 19:08:31 (1,65 MB/s) - ‘onegin.txt.1’ saved [262521/262521]\n",
      "\n"
     ]
    }
   ],
   "source": [
    "!wget https://raw.githubusercontent.com/attatrol/data_sources/master/onegin.txt\n",
    "    \n",
    "with open('onegin.txt', 'r') as iofile:\n",
    "    text = iofile.readlines()\n",
    "    \n",
    "text = [x.replace('\\t\\t', '') for x in text]"
   ]
  },
  {
   "cell_type": "markdown",
   "metadata": {
    "id": "looqZoqnVozq"
   },
   "source": [
    "In opposite to the in-class practice, this time we want to predict complex text. Let's reduce the complexity of the task and lowercase all the symbols.\n",
    "\n",
    "Now variable `text` is a list of strings. Join all the strings into one and lowercase it."
   ]
  },
  {
   "cell_type": "code",
   "execution_count": null,
   "metadata": {
    "id": "_Azm6ghoeSii"
   },
   "outputs": [],
   "source": []
  },
  {
   "cell_type": "code",
   "execution_count": 5,
   "metadata": {
    "id": "4vDHDLsAeSii"
   },
   "outputs": [],
   "source": [
    "import re \n",
    "\n",
    "def has_cyrillic(text):\n",
    "    return bool(re.search('[а-яА-Я]', text))"
   ]
  },
  {
   "cell_type": "code",
   "execution_count": 6,
   "metadata": {
    "id": "ERDTtateVozq"
   },
   "outputs": [],
   "source": [
    "# Join all the strings into one and lowercase it\n",
    "# Put result into variable text.\n",
    "\n",
    "def checkIfRomanNumeral(numeral):\n",
    "    numeral = {c for c in numeral.upper()}\n",
    "    validRomanNumerals = {c for c in \"MDCLXVI()\"}\n",
    "    return not numeral - validRomanNumerals\n",
    "\n",
    "text = [x for x in text if x!='\\n']\n",
    "\n",
    "text = [x.strip() for x in text]\n",
    "text = [x.lower() for x in text if not checkIfRomanNumeral(x)]\n",
    "text = [x for x in text if has_cyrillic(x)]\n",
    "out = ' '.join(text)\n",
    "out = out.lower()\n"
   ]
  },
  {
   "cell_type": "markdown",
   "metadata": {
    "id": "zKLBXgaQVozq"
   },
   "source": [
    "Put all the characters, that you've seen in the text, into variable `tokens`."
   ]
  },
  {
   "cell_type": "code",
   "execution_count": 7,
   "metadata": {
    "id": "EsQTLdxZVozr"
   },
   "outputs": [],
   "source": [
    "tokens = sorted(set(out))"
   ]
  },
  {
   "cell_type": "markdown",
   "metadata": {
    "id": "qPTqZ4jQVozr"
   },
   "source": [
    "Create dictionary `token_to_idx = {<char>: <index>}` and dictionary `idx_to_token = {<index>: <char>}`"
   ]
  },
  {
   "cell_type": "code",
   "execution_count": 8,
   "metadata": {
    "id": "COQRgEmwVozr"
   },
   "outputs": [],
   "source": [
    "# dict <index>:<char>\n",
    "# Your great code here\n",
    "token_to_idx ={v:k for k,v in enumerate(tokens)}\n",
    "\n",
    "# dict <char>:<index>\n",
    "# Your great code here\n",
    "idx_to_token = {v:k for k,v in token_to_idx.items() }"
   ]
  },
  {
   "cell_type": "markdown",
   "metadata": {
    "id": "gshsw9lAVozr"
   },
   "source": [
    "*Comment: in this task we have only 38 different tokens, so let's use one-hot encoding.*"
   ]
  },
  {
   "cell_type": "markdown",
   "metadata": {
    "id": "B8sXkJ-mVozr"
   },
   "source": [
    "### Building the model"
   ]
  },
  {
   "cell_type": "markdown",
   "metadata": {
    "id": "WrSoHmqOVozs"
   },
   "source": [
    "Now we want to build and train recurrent neural net which would be able to something similar to Shakespeare's poetry.\n",
    "\n",
    "Let's use vanilla RNN, similar to the one created during the lesson."
   ]
  },
  {
   "cell_type": "code",
   "execution_count": 9,
   "metadata": {
    "id": "LCEepGPCeSil"
   },
   "outputs": [],
   "source": [
    "import os\n",
    "from IPython.display import clear_output\n",
    "from random import sample\n",
    "\n",
    "import matplotlib.pyplot as plt\n",
    "%matplotlib inline\n",
    "import numpy as np\n",
    "import torch\n",
    "import torch.nn as nn\n",
    "import torch.nn.functional as F\n",
    "from torch.utils.tensorboard import SummaryWriter\n",
    "from torch.utils.data import Dataset, DataLoader\n",
    "from  tqdm import tqdm"
   ]
  },
  {
   "cell_type": "code",
   "execution_count": 10,
   "metadata": {
    "id": "_fFFxrNnaZLz"
   },
   "outputs": [],
   "source": [
    "device = torch.device('cuda' if torch.cuda.is_available() else 'cpu')"
   ]
  },
  {
   "cell_type": "code",
   "execution_count": 11,
   "metadata": {
    "id": "RZ1nyHBfLdQL"
   },
   "outputs": [],
   "source": [
    "class MyDataset(Dataset):\n",
    "  \n",
    "    def __init__(self, string,token_to_idx,size=50):\n",
    "       \n",
    "        self.string = string\n",
    "        self.token_to_idx=token_to_idx\n",
    "        self.size=size\n",
    "\n",
    "    def __len__(self):\n",
    "        return len(self.string)\n",
    "\n",
    "    def __getitem__(self, idx):\n",
    "      random_index = np.random.randint(0, len(self.string)-self.size)\n",
    "      buf = [self.token_to_idx[x] for x in self.string[random_index:random_index+self.size]]\n",
    "      x = torch.tensor([x for x in buf[:-1]])\n",
    "      y=  torch.tensor([x for x in buf[1:]])\n",
    "\n",
    "      return x,y\n"
   ]
  },
  {
   "cell_type": "code",
   "execution_count": 12,
   "metadata": {
    "id": "oXTpcVoMeSil"
   },
   "outputs": [],
   "source": [
    "dataset = MyDataset(out,token_to_idx)\n",
    "dataloader = DataLoader(dataset, batch_size=128,\n",
    "                      shuffle=True, num_workers=2)"
   ]
  },
  {
   "cell_type": "code",
   "execution_count": 13,
   "metadata": {
    "id": "nUrw0wUAeSil"
   },
   "outputs": [],
   "source": [
    "class MyModel(nn.Module):\n",
    "    def __init__(self, num_tokens=len(idx_to_token), emb_size=16, rnn_num_units=64):\n",
    "        super(self.__class__, self).__init__()\n",
    "        self.emb = nn.Embedding(num_tokens, emb_size)\n",
    "        self.rnn = nn.RNN(emb_size, rnn_num_units)\n",
    "        self.hid_to_logits = nn.Linear(rnn_num_units, num_tokens)\n",
    "\n",
    "    def forward(self, x,hidden=None):\n",
    "        \n",
    "        h_seq, hid = self.rnn(self.emb(x),hidden)\n",
    "        next_logits = self.hid_to_logits(h_seq)\n",
    "        next_logp = F.log_softmax(next_logits, dim=-1)\n",
    "        return next_logp,hid"
   ]
  },
  {
   "cell_type": "code",
   "execution_count": 18,
   "metadata": {
    "id": "RVZzVMhseSim"
   },
   "outputs": [],
   "source": [
    "model = MyModel()\n",
    "opt = torch.optim.Adam(model.parameters())\n",
    "criterion = nn.NLLLoss()\n",
    "history = []\n",
    "EPOCHS=1000"
   ]
  },
  {
   "cell_type": "code",
   "execution_count": 19,
   "metadata": {
    "id": "0OEJ6PUHbRPc"
   },
   "outputs": [],
   "source": [
    "writer = SummaryWriter()\n",
    "for x,y in dataloader:\n",
    "  x = x.permute(1,0)\n",
    "  x=x.to(device)\n",
    "  y=y.to(device)\n",
    "\n",
    "  \n",
    "  writer.add_graph(model.to(device), x)\n",
    "  break"
   ]
  },
  {
   "cell_type": "code",
   "execution_count": 20,
   "metadata": {
    "id": "HcquWJwLcUEM"
   },
   "outputs": [],
   "source": [
    "def generate_sample(char_rnn, seed_phrase=' привет', max_length=32, temperature=1.0):\n",
    "    '''\n",
    "    ### Disclaimer: this is an example function for text generation.\n",
    "    ### You can either adapt it in your code or create your own function\n",
    "    \n",
    "    The function generates text given a phrase of length at least SEQ_LENGTH.\n",
    "    :param seed_phrase: prefix characters. The RNN is asked to continue the phrase\n",
    "    :param max_length: maximum output length, including seed_phrase\n",
    "    :param temperature: coefficient for sampling.  higher temperature produces more chaotic outputs, \n",
    "        smaller temperature converges to the single most likely output.\n",
    "        \n",
    "    Be careful with the model output. This model waits logits (not probabilities/log-probabilities)\n",
    "    of the next symbol.\n",
    "    '''\n",
    "    char_rnn.eval()\n",
    "    x_sequence = [[token_to_idx[token]] for token in seed_phrase]\n",
    "    x_sequence = torch.tensor(x_sequence, dtype=torch.int64).to(device)\n",
    "#     hid_state = char_rnn.initial_state(batch_size=1)\n",
    "    \n",
    "    #feed the seed phrase, if any\n",
    "    hidden=None\n",
    "    for i in range(len(seed_phrase) - 1):\n",
    "        out,hidden = char_rnn(x_sequence[i].view(1,1),hidden)\n",
    "#         print(hidden)\n",
    "#     \n",
    "    #start generating\n",
    "    for _ in range(max_length - len(seed_phrase)):\n",
    "\n",
    "        out,hidden = char_rnn(x_sequence[_].view(1,1).to(device),hidden)\n",
    "#         print(out,hidden)\n",
    "       \n",
    "        # Be really careful here with the model output\n",
    "        p_next = F.softmax(out.cpu() / temperature,dim=-1).data.numpy()[0][0]\n",
    "#         print(out)\n",
    "        # sample next token and push it back into x_sequence\n",
    "#         print(p_next.shape, len(tokens))\n",
    "#         print(p_next)\n",
    "        next_ix = np.random.choice(len(tokens), p=p_next)\n",
    "        next_ix = torch.tensor([[next_ix]], dtype=torch.int64)\n",
    "#         print(x_sequence)\n",
    "        x_sequence = torch.cat([x_sequence.cpu(), next_ix], dim=0)\n",
    "        \n",
    "    return ''.join([tokens[ix] for ix in x_sequence.data.numpy().flatten()])"
   ]
  },
  {
   "cell_type": "code",
   "execution_count": 21,
   "metadata": {
    "colab": {
     "background_save": true,
     "base_uri": "https://localhost:8080/"
    },
    "id": "C10M22U5eSim",
    "outputId": "dab338c7-35de-49e8-dadf-425b1e990374"
   },
   "outputs": [
    {
     "name": "stderr",
     "output_type": "stream",
     "text": [
      " 15%|█▌        | 150/1000 [12:10<1:08:59,  4.87s/it]\n"
     ]
    },
    {
     "ename": "KeyboardInterrupt",
     "evalue": "",
     "output_type": "error",
     "traceback": [
      "\u001b[0;31m---------------------------------------------------------------------------\u001b[0m",
      "\u001b[0;31mKeyboardInterrupt\u001b[0m                         Traceback (most recent call last)",
      "\u001b[0;32m<ipython-input-21-b4b5af5ce6ca>\u001b[0m in \u001b[0;36m<module>\u001b[0;34m\u001b[0m\n\u001b[1;32m     18\u001b[0m       \u001b[0mopt\u001b[0m\u001b[0;34m.\u001b[0m\u001b[0mstep\u001b[0m\u001b[0;34m(\u001b[0m\u001b[0;34m)\u001b[0m\u001b[0;34m\u001b[0m\u001b[0;34m\u001b[0m\u001b[0m\n\u001b[1;32m     19\u001b[0m       \u001b[0mopt\u001b[0m\u001b[0;34m.\u001b[0m\u001b[0mzero_grad\u001b[0m\u001b[0;34m(\u001b[0m\u001b[0;34m)\u001b[0m\u001b[0;34m\u001b[0m\u001b[0;34m\u001b[0m\u001b[0m\n\u001b[0;32m---> 20\u001b[0;31m       \u001b[0mloss_sum\u001b[0m\u001b[0;34m+=\u001b[0m\u001b[0mloss\u001b[0m\u001b[0;34m.\u001b[0m\u001b[0mcpu\u001b[0m\u001b[0;34m(\u001b[0m\u001b[0;34m)\u001b[0m\u001b[0;34m.\u001b[0m\u001b[0mdata\u001b[0m\u001b[0;34m.\u001b[0m\u001b[0mnumpy\u001b[0m\u001b[0;34m(\u001b[0m\u001b[0;34m)\u001b[0m\u001b[0;34m\u001b[0m\u001b[0;34m\u001b[0m\u001b[0m\n\u001b[0m\u001b[1;32m     21\u001b[0m   \u001b[0mmean_loss\u001b[0m \u001b[0;34m=\u001b[0m \u001b[0mloss_sum\u001b[0m\u001b[0;34m/\u001b[0m\u001b[0mlen\u001b[0m\u001b[0;34m(\u001b[0m\u001b[0mdataloader\u001b[0m\u001b[0;34m)\u001b[0m\u001b[0;34m\u001b[0m\u001b[0;34m\u001b[0m\u001b[0m\n\u001b[1;32m     22\u001b[0m   \u001b[0mhistory\u001b[0m\u001b[0;34m.\u001b[0m\u001b[0mappend\u001b[0m\u001b[0;34m(\u001b[0m\u001b[0mmean_loss\u001b[0m\u001b[0;34m)\u001b[0m\u001b[0;34m\u001b[0m\u001b[0;34m\u001b[0m\u001b[0m\n",
      "\u001b[0;31mKeyboardInterrupt\u001b[0m: "
     ]
    }
   ],
   "source": [
    "model.to(device)\n",
    "model.train()\n",
    "for i in tqdm(range(EPOCHS)):\n",
    "  loss_sum=0\n",
    "  for x,y in dataloader:\n",
    "      \n",
    "      x = x.permute(1,0)\n",
    "      x=x.to(device)\n",
    "      y=y.to(device)\n",
    "\n",
    "      answer,hidden = model(x,None)\n",
    "      answer=answer.permute(1,2,0)\n",
    "     \n",
    "      loss = criterion(answer,y)\n",
    "\n",
    "      loss.backward()\n",
    "\n",
    "      opt.step()\n",
    "      opt.zero_grad()\n",
    "      loss_sum+=loss.cpu().data.numpy()\n",
    "  mean_loss = loss_sum/len(dataloader)\n",
    "  history.append(mean_loss)\n",
    "  \n",
    "  writer.add_scalar(\"train loss\", mean_loss, i)\n",
    "  writer.add_text( 'Generated sample',\"This is text {}\".format(generate_sample(model,max_length=64, temperature=0.5,seed_phrase=' давид')), global_step=i)\n",
    "  model.train()\n",
    "    \n",
    "\n",
    "# assert np.mean(history[:10]) > np.mean(history[-10:]), \"RNN didn't converge.\""
   ]
  },
  {
   "cell_type": "code",
   "execution_count": null,
   "metadata": {
    "id": "99p5q0qsVozs"
   },
   "outputs": [],
   "source": [
    "\n"
   ]
  },
  {
   "cell_type": "markdown",
   "metadata": {
    "id": "z3ajAwkZVozs"
   },
   "source": [
    "Plot the loss function (axis X: number of epochs, axis Y: loss function)."
   ]
  },
  {
   "cell_type": "code",
   "execution_count": null,
   "metadata": {
    "id": "ap-XEHcjVozs"
   },
   "outputs": [],
   "source": [
    "# Your plot code here"
   ]
  },
  {
   "cell_type": "code",
   "execution_count": null,
   "metadata": {
    "id": "o2rph2uCVozs"
   },
   "outputs": [],
   "source": []
  },
  {
   "cell_type": "code",
   "execution_count": 24,
   "metadata": {
    "id": "b1hRXlUuVozt"
   },
   "outputs": [],
   "source": [
    "# An example of generated text.\n",
    "a = generate_sample(model,max_length=64, temperature=0.9,seed_phrase=' крестьянин')"
   ]
  },
  {
   "cell_type": "code",
   "execution_count": 25,
   "metadata": {
    "colab": {
     "base_uri": "https://localhost:8080/",
     "height": 35
    },
    "id": "mlPeIgAueSio",
    "outputId": "12ec7a93-2a82-458b-bc68-f172c9440fc6"
   },
   "outputs": [
    {
     "data": {
      "text/plain": [
       "' крестьяниннуебта  ыиьистнулисlш  киытись.е«купнс ь  нвосната сс'"
      ]
     },
     "execution_count": 25,
     "metadata": {},
     "output_type": "execute_result"
    }
   ],
   "source": [
    "a"
   ]
  },
  {
   "cell_type": "markdown",
   "metadata": {
    "id": "RLd-rzBkVozt"
   },
   "source": [
    "### More poetic model\n",
    "\n",
    "Let's use LSTM instead of vanilla RNN and compare the results."
   ]
  },
  {
   "cell_type": "markdown",
   "metadata": {
    "id": "wGoLSKrAVozt"
   },
   "source": [
    "Plot the loss function of the number of epochs. Does the final loss become better?"
   ]
  },
  {
   "cell_type": "code",
   "execution_count": 26,
   "metadata": {
    "id": "yxLDxsjfVozu"
   },
   "outputs": [],
   "source": [
    "# Your beautiful code here"
   ]
  },
  {
   "cell_type": "code",
   "execution_count": null,
   "metadata": {},
   "outputs": [],
   "source": []
  },
  {
   "cell_type": "code",
   "execution_count": 31,
   "metadata": {},
   "outputs": [],
   "source": [
    "class MyModel(nn.Module):\n",
    "    def __init__(self, num_tokens=len(idx_to_token), emb_size=16, rnn_num_units=64):\n",
    "        super(self.__class__, self).__init__()\n",
    "        self.emb = nn.Embedding(num_tokens, emb_size)\n",
    "        self.rnn = nn.LSTM(emb_size, rnn_num_units)\n",
    "        self.hid_to_logits = nn.Linear(rnn_num_units, num_tokens)\n",
    "\n",
    "    def forward(self, x,hidden=None):\n",
    "        \n",
    "        h_seq, hid = self.rnn(self.emb(x),hidden)\n",
    "        next_logits = self.hid_to_logits(h_seq)\n",
    "        next_logp = F.log_softmax(next_logits, dim=-1)\n",
    "        return next_logp,hid"
   ]
  },
  {
   "cell_type": "code",
   "execution_count": 32,
   "metadata": {},
   "outputs": [],
   "source": [
    "model = MyModel()\n",
    "opt = torch.optim.Adam(model.parameters())\n",
    "criterion = nn.NLLLoss()\n",
    "history = []\n",
    "EPOCHS=1000"
   ]
  },
  {
   "cell_type": "code",
   "execution_count": 33,
   "metadata": {},
   "outputs": [],
   "source": [
    "writer = SummaryWriter()"
   ]
  },
  {
   "cell_type": "code",
   "execution_count": null,
   "metadata": {},
   "outputs": [
    {
     "name": "stderr",
     "output_type": "stream",
     "text": [
      " 10%|▉         | 99/1000 [09:51<1:32:57,  6.19s/it]"
     ]
    }
   ],
   "source": [
    "model.to(device)\n",
    "model.train()\n",
    "for i in tqdm(range(EPOCHS)):\n",
    "  loss_sum=0\n",
    "  for x,y in dataloader:\n",
    "      \n",
    "      x = x.permute(1,0)\n",
    "      x=x.to(device)\n",
    "      y=y.to(device)\n",
    "\n",
    "      answer,hidden = model(x,None)\n",
    "      answer=answer.permute(1,2,0)\n",
    "     \n",
    "      loss = criterion(answer,y)\n",
    "\n",
    "      loss.backward()\n",
    "\n",
    "      opt.step()\n",
    "      opt.zero_grad()\n",
    "      loss_sum+=loss.cpu().data.numpy()\n",
    "  mean_loss = loss_sum/len(dataloader)\n",
    "  history.append(mean_loss)\n",
    "  \n",
    "  writer.add_scalar(\"train loss\", mean_loss, i)\n",
    "  writer.add_text( 'Generated sample',\"This is text {}\".format(generate_sample(model,max_length=64, temperature=0.5,seed_phrase=' давид')), global_step=i)\n",
    "  model.train()\n",
    "    \n",
    "\n",
    "# assert np.mean(history[:10]) > np.mean(history[-10:]), \"RNN didn't converge.\""
   ]
  },
  {
   "cell_type": "markdown",
   "metadata": {
    "id": "vaqpv58KVozu"
   },
   "source": [
    "Generate text using the trained net with different `temperature` parameter: `[0.1, 0.2, 0.5, 1.0, 2.0]`.\n",
    "\n",
    "Evaluate the results visually, try to interpret them."
   ]
  },
  {
   "cell_type": "code",
   "execution_count": null,
   "metadata": {
    "collapsed": true,
    "id": "WhIhRLkNVozu"
   },
   "outputs": [],
   "source": [
    "# Text generation with different temperature values here"
   ]
  },
  {
   "cell_type": "markdown",
   "metadata": {
    "id": "rIwD5yAaVozu"
   },
   "source": [
    "### Saving and loading models"
   ]
  },
  {
   "cell_type": "markdown",
   "metadata": {
    "id": "cS-1n70-Vozu"
   },
   "source": [
    "Save the model to the disk, then load it and generate text. Examples are available [here](https://pytorch.org/tutorials/beginner/saving_loading_models.html])."
   ]
  },
  {
   "cell_type": "code",
   "execution_count": null,
   "metadata": {
    "collapsed": true,
    "id": "K8uShc2OVozu"
   },
   "outputs": [],
   "source": [
    "# Saving and loading code here"
   ]
  },
  {
   "cell_type": "markdown",
   "metadata": {
    "id": "dj9A0Z8MVozv"
   },
   "source": [
    "### References\n",
    "1. <a href='http://karpathy.github.io/2015/05/21/rnn-effectiveness/'> Andrew Karpathy blog post about RNN. </a> \n",
    "There are several examples of genration: Shakespeare texts, Latex formulas, Linux Sourse Code and children names.\n",
    "2. <a href='https://github.com/karpathy/char-rnn'> Repo with char-rnn code </a>\n",
    "3. Cool repo with PyTorch examples: [link](https://github.com/spro/practical-pytorch`)"
   ]
  }
 ],
 "metadata": {
  "accelerator": "GPU",
  "anaconda-cloud": {},
  "colab": {
   "collapsed_sections": [],
   "name": "Lab01_Poetry_generation.ipynb",
   "provenance": []
  },
  "kernelspec": {
   "display_name": "Python 3",
   "language": "python",
   "name": "python3"
  },
  "language_info": {
   "codemirror_mode": {
    "name": "ipython",
    "version": 3
   },
   "file_extension": ".py",
   "mimetype": "text/x-python",
   "name": "python",
   "nbconvert_exporter": "python",
   "pygments_lexer": "ipython3",
   "version": "3.8.5"
  }
 },
 "nbformat": 4,
 "nbformat_minor": 1
}
